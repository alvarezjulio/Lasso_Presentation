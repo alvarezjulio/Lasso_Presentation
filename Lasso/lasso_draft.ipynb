{
 "cells": [
  {
   "cell_type": "markdown",
   "metadata": {
    "collapsed": true
   },
   "source": [
    "<h1><center>Lasso</center></h1>"
   ]
  },
  {
   "cell_type": "markdown",
   "metadata": {},
   "source": [
    "## Lasso"
   ]
  },
  {
   "cell_type": "markdown",
   "metadata": {},
   "source": [
    "<h3><center>Introduction</center></h3>"
   ]
  },
  {
   "cell_type": "markdown",
   "metadata": {},
   "source": [
    "### Introduction"
   ]
  },
  {
   "cell_type": "markdown",
   "metadata": {},
   "source": [
    "    Often when considering a complex prediction problem, it’s difficult to know which factors affect the outcome of interest. This difficulty arises especially in data characterized by a large set of primary explanatory variables for which there are few observations, perhaps causing the number of variables to have the same order of magnitude as the observations. Data with many explanatory variables and relatively few observations appear frequently in financial, medical, and economic research.  Without regularizing (or shrinking) the coefficients for questions like which of the thousands of genes cause cancer, statistical models on such high magnitude data would be very unstable.  To make these problems more workable, researchers have designed regularization methods specifically to handle high dimensional data. One of these methods more recently developed is called Lasso.\n",
    "\n",
    "   Lasso stands for Least Absolute Shrinkage and Selection Operator. Lasso is a regression which relies on penalties to reduce (“shrink”) the values of predicted coefficients towards 0. While some shrinkage methods have been around since the 1960s (see Hoerl), Lasso regression was first pioneered by Robert Tibshirani in his 1996 paper “Regression Shrinkage and Selection via the Lasso.” Until that time, the standard techniques for improving OLS estimates were subset selection and ridge regression, but both have drawbacks. **these next sentences is direct from main paper, need to change**Subset selection provides interpretable models but can be extremely volatile because it uses a discrete process -- regressors are either retained or dropped from the model without otherwise altering the coefficients. Small changes in the sample data can result in very different models being selected, which may reduce its predictive accuracy. ***Though ridge regression is a continuous, more stable process for shrinking coefficients, it cannot eliminate any regressors and hence does not give an easily interpretable model. Lasso, on the other hand, retains the good features of simple subset selection and ridge regression: interpretability and accuracy (Tibshirani 1996).\n",
    "    \n",
    "     Lasso is best suited to deal with models that show a high level of multicollinearity.  Multicollinearity exists whenever two or more of the predictors in a regression model are moderately or highly correlated. Lasso regression performs L1 regularization, which adds a penalty equal to the absolute value of the magnitude of coefficients as constraints. This type of regularization subtracts a constant from all coefficients.  Using soft thresholding, any coefficient that reaches or passes 0 after the penalty is forced to 0. Thus, depending on the level of penalty, Lasso can eliminate parameters and produce sparse models with few covariates. Larger penalties increase the number of eliminated covariates, lowering the variance while increasing the bias. In contrast, small penalties produce less interpretable models with high variance but low bias (Chan-Lau 2017). The trade-off between bias and variance is a major component of specifying a Lasso model. In practice, researchers employ cross-validation to determine the optimal penalty level.  Though Lasso offers advantages to other shrinkage methods or least squares, it is not without disadvantages. Drawbacks from Lasso include potentially removing important control variables and arbitrarily dropping regressors from a group of important, highly correlated ones. Therefore, depending on the intent of the study and the nature of the dataset, Lasso may or may not be the best model to apply.\n",
    "\n",
    "    Although Lasso has only been discussed in the context of linear regressions, the technique may be more broadly applied. Lasso-type estimators can also accommodate models other than the linear models. It is possible to use Lasso estimators in generalized linear models including logistic regression, multiclass logistic regression, Cox proportional hazard models, support vector machines, and also in semiparametric nonlinear mixed effect models (Arribas-Gil, Bertin, Meza, and Rivoirard 2014) and nonlinear regressions (Tateishi, Matsui, and Konishi 2010).\n",
    "\n",
    "    Sources:\n",
    "    Arribas-Gil, A., K. Bertin, C. Meza, and V. Rivoirard. “Lasso-type Estimators for Semiparametric Nonlinear Mixed-Effects Models Estimation.” Statistics and Computing, 24, (3): 443 – 460. \n",
    "\n",
    "    Chan-Lau, Jorge A. 2017. “Lasso Regressions and Forecasting Models in Applied Stress Testing.” IMF Working Paper WP/17/108. \n",
    "\n",
    "    Hoerl, A. E. 1962. “Application of Ridge Analysis to Regression Problems.” Chemical Engineering Progress, 1958: 54–59. \n",
    "\n",
    "    Tateishi, S., H. Matsui, and S. Konishi. 2010. “Nonlinear Regression Modeling via the Lasso-Type Regularization.” Journal of Statistical Planning and Inference, 140, (5): 1125 – 1134. \n",
    "\n",
    "    Tibshirani, Robert. 1996. “Regression Shrinkage and Selection via the Lasso.” Journal of the Royal Statistical Society 58, (1): 267-288. "
   ]
  },
  {
   "cell_type": "markdown",
   "metadata": {},
   "source": [
    "<h3><center>Analytical Framework</center></h3>"
   ]
  },
  {
   "cell_type": "markdown",
   "metadata": {},
   "source": [
    "### Analytical Framework"
   ]
  },
  {
   "cell_type": "markdown",
   "metadata": {},
   "source": [
    "Need:\n",
    "<ul>\n",
    "    <li>Assumptions</li>\n",
    "    <li>Model, in math and words</li>\n",
    "    <li>Choice of t, theoretical/practical</li>\n",
    "    <li>Technical prop: biasedness, variance</li>\n",
    "</ul>\n",
    "\n",
    "\n",
    "\tLasso is a regression technique that modifies the estimates of unconstrained regressions. There are two choices necessary to using the model: an unconstrained regression type and a constraint value. In this technical description of Lasso, we will assume a linear model. The linear model may be exchanged for a more complicated one, but the basic linear system is sufficient to represent the Lasso methodology. The base model chosen is dependent on the assumptions made about the relationship between the data and outcome of interest. Assume there are Nobservations and p parameters. Then, given a set of parameters and an outcome variable, the relationship of interest is\n",
    "\n",
    "Yi=Xi'+iwith N(0, 2)\n",
    "\n",
    "\n",
    "Yi=y1 y2... yN, Xi'=X1i X2i... Xp-1i, =0 1...p-1, =1 2... N.\n",
    "\n",
    "\n",
    "    To perform Lasso, we need to minimize the squared residuals under the constraint that the sum of the magnitude of all estimated coefficients be limited to a certain value, t.  It follows that the estimator is defined by\n",
    "\n",
    "lasso=argmini=1N(yi-0-j=0p-1(xijj))2    subject to    j=0p-1jt.\t\t\t        (2)\n",
    "\n",
    "    This constraint problem can also be represented in lagrangian form as:\n",
    "\n",
    "lasso=argmin12i=1N(yi-0-j=0p-1(xijj))2+j=0p-1j)\t\t\t\t\t        (3)\n",
    "\n",
    "    Unfortunately, there is no closed-form solution for lasso like for basic least squares regression. But a unique solution for lasso can be calculated using efficient computer algorithms such as LAR (least angle regression).  We can turn to these algorithms once selecting a value for t, the constraint variable.  The more stringent the choice for t, the more shrinkage and variable selection the original linear model will experience.  It is possible to choose t such that the OLS and Lasso coefficients will be the same (i.e. if tj=1pjOLS), but that is usually not optimal in data with high dimensionality. Constraining the regression by limiting the sum of the absolute value of the coefficients is called L1 regularization.  The following figure gives the geometric interpretation of L1 regularization in the context of Lasso with one dependent variable:\n"
   ]
  },
  {
   "cell_type": "markdown",
   "metadata": {},
   "source": [
    "<img src=\"https://onlinecourses.science.psu.edu/stat857/sites/onlinecourses.science.psu.edu.stat857/files/lesson05/image_09.gif\" alt=\"LASSO vs. Ridge\" title=\"Geometric interpretation\" />"
   ]
  },
  {
   "cell_type": "markdown",
   "metadata": {},
   "source": [
    "    The blue square centered at the origin illustrates the constraint t. Smaller values for t reduce the size of the blue region. The point labeled represents the solution for the least squares minimization problem without constraint. The red ellipses around are level curves of the residual sum of squares from different combinations of 1and 2.  Lasso finds the solution where the residual sum of squares contour intersects the constraint square at one point. This point of intersection determines the new set of constrained coefficients. Since L1 regularization creates corners on the constraint region, a solution that touches ones of these corners will set one or more parameters to 0.\n",
    "\n",
    "\tBecause varying choices tcan dramatically affect the estimates, variance, and bias of a Lasso regression, the choice of tmust be a careful one.  The optimal choice of tis derived by minimizing an estimate of the expected predicted error. The best way to minimize the predicted error is by performing several iterations of cross-validation (k-fold cross-validation).  "
   ]
  },
  {
   "cell_type": "code",
   "execution_count": null,
   "metadata": {
    "collapsed": true
   },
   "outputs": [],
   "source": []
  },
  {
   "cell_type": "markdown",
   "metadata": {},
   "source": [
    "<img src=\"https://onlinecourses.science.psu.edu/stat857/sites/onlinecourses.science.psu.edu.stat857/files/lesson05/image_09.gif\" alt=\"LASSO vs. Ridge\" title=\"Geometric interpretation\" />"
   ]
  },
  {
   "cell_type": "markdown",
   "metadata": {},
   "source": [
    "    Figure 2 illustrates the effect of the tuning parameter from the lagrangian form.  Where the 45° line represents unconstrained coefficients in an othonormal setting (X'X=I), the red dotted lines shows how  reduces the values towards 0. At each point along the line,  is subtracted from the magnitude x, or  jlasso=sign(jols)(jols-)+. For each value of t, there is a corresponding value of  that gives the same solution. Constraint t and tuning parameter  have an inverse relationship: as tgoes to  and as  goes to 0, the coefficients converge to the OLS estimates.\n"
   ]
  },
  {
   "cell_type": "markdown",
   "metadata": {},
   "source": [
    "<h3><center>Application</center></h3>"
   ]
  },
  {
   "cell_type": "markdown",
   "metadata": {},
   "source": [
    "### Application"
   ]
  },
  {
   "cell_type": "markdown",
   "metadata": {},
   "source": [
    "\n",
    "    We used a collective panel dataset of years 1975 and 2009 acquired from Penn World Table, World Bank Indicators, OECD Program for International Student Assessment (PISA), World Values Survey, and various researchers. It has over 95 variables for all 190 countries that relate to economic growth and development such as GDP, capital stock, productivity growth, total fertility rate, trade, labor share, political shares etc. The variable of our interest is life expectancy. From all those indicators, we seek to determine which indicators have the largest impact in predicting life expectancy of a country. \n"
   ]
  },
  {
   "cell_type": "markdown",
   "metadata": {},
   "source": [
    "<h4><center>Data manipulation</center></h4>"
   ]
  },
  {
   "cell_type": "markdown",
   "metadata": {},
   "source": [
    "#### Data Manipulation"
   ]
  },
  {
   "cell_type": "markdown",
   "metadata": {},
   "source": [
    "    As it is usual in many different dataset, there were many values that were missing in this dataset. in the following lines of code we decided to look into those values and decided to analyze and fill thoe missing values depending on the ratio of missing/exisiting values and other factors"
   ]
  },
  {
   "cell_type": "code",
   "execution_count": 1,
   "metadata": {
    "collapsed": true
   },
   "outputs": [],
   "source": [
    "import pandas as pd\n",
    "import matplotlib.pyplot as plt\n",
    "import seaborn as sns\n",
    "import numpy as np\n",
    "from scipy.stats import norm\n",
    "from sklearn.preprocessing import StandardScaler\n",
    "from scipy import stats\n",
    "from scipy.stats import norm, skew\n",
    "import warnings\n",
    "%matplotlib inline\n",
    "from sklearn.linear_model import LinearRegression\n",
    "from sklearn.linear_model import LinearRegression\n",
    "from sklearn import model_selection\n",
    "from sklearn import linear_model\n",
    "\n",
    "import matplotlib.pyplot as plt\n",
    "color = sns.color_palette()\n",
    "sns.set_style('darkgrid')\n",
    "warnings.filterwarnings('ignore')\n",
    "def ignore_warn(*args, **kwargs):\n",
    "    pass\n",
    "warnings.warn = ignore_warn #ignore warnings from SNS and SKLEARN\n",
    "pd.set_option('display.float_format', lambda x: '{:.3f}'.format(x))\n",
    "from subprocess import check_output"
   ]
  },
  {
   "cell_type": "code",
   "execution_count": 2,
   "metadata": {
    "collapsed": true
   },
   "outputs": [],
   "source": [
    "data = pd.read_csv(\"/Users/J.Alvarez/lasso_data.csv\", encoding='latin-1')\n",
    "# all you need is to change the address of where your data lives! this is the \"raw\" data.. keep that in mind"
   ]
  },
  {
   "cell_type": "code",
   "execution_count": 3,
   "metadata": {
    "collapsed": true
   },
   "outputs": [],
   "source": [
    "missing_data_exploration = data"
   ]
  },
  {
   "cell_type": "code",
   "execution_count": 4,
   "metadata": {},
   "outputs": [
    {
     "data": {
      "text/html": [
       "<div>\n",
       "<style>\n",
       "    .dataframe thead tr:only-child th {\n",
       "        text-align: right;\n",
       "    }\n",
       "\n",
       "    .dataframe thead th {\n",
       "        text-align: left;\n",
       "    }\n",
       "\n",
       "    .dataframe tbody tr th {\n",
       "        vertical-align: top;\n",
       "    }\n",
       "</style>\n",
       "<table border=\"1\" class=\"dataframe\">\n",
       "  <thead>\n",
       "    <tr style=\"text-align: right;\">\n",
       "      <th></th>\n",
       "      <th>Missing Ratio</th>\n",
       "    </tr>\n",
       "  </thead>\n",
       "  <tbody>\n",
       "    <tr>\n",
       "      <th>westerneurope</th>\n",
       "      <td>90.476</td>\n",
       "    </tr>\n",
       "    <tr>\n",
       "      <th>asia</th>\n",
       "      <td>76.720</td>\n",
       "    </tr>\n",
       "    <tr>\n",
       "      <th>soccapability</th>\n",
       "      <td>75.132</td>\n",
       "    </tr>\n",
       "    <tr>\n",
       "      <th>techvstrad</th>\n",
       "      <td>74.603</td>\n",
       "    </tr>\n",
       "    <tr>\n",
       "      <th>africa</th>\n",
       "      <td>73.545</td>\n",
       "    </tr>\n",
       "    <tr>\n",
       "      <th>laborshare</th>\n",
       "      <td>71.958</td>\n",
       "    </tr>\n",
       "    <tr>\n",
       "      <th>rgdpch1950</th>\n",
       "      <td>71.429</td>\n",
       "    </tr>\n",
       "    <tr>\n",
       "      <th>privcap75</th>\n",
       "      <td>69.312</td>\n",
       "    </tr>\n",
       "    <tr>\n",
       "      <th>testscores09</th>\n",
       "      <td>66.667</td>\n",
       "    </tr>\n",
       "    <tr>\n",
       "      <th>gini75</th>\n",
       "      <td>66.138</td>\n",
       "    </tr>\n",
       "    <tr>\n",
       "      <th>work</th>\n",
       "      <td>65.608</td>\n",
       "    </tr>\n",
       "    <tr>\n",
       "      <th>rgdpch1955</th>\n",
       "      <td>62.434</td>\n",
       "    </tr>\n",
       "    <tr>\n",
       "      <th>popden60</th>\n",
       "      <td>58.201</td>\n",
       "    </tr>\n",
       "    <tr>\n",
       "      <th>secsch09</th>\n",
       "      <td>57.672</td>\n",
       "    </tr>\n",
       "    <tr>\n",
       "      <th>wellbeing</th>\n",
       "      <td>56.614</td>\n",
       "    </tr>\n",
       "    <tr>\n",
       "      <th>tradetax09</th>\n",
       "      <td>56.614</td>\n",
       "    </tr>\n",
       "    <tr>\n",
       "      <th>fdi75</th>\n",
       "      <td>55.026</td>\n",
       "    </tr>\n",
       "    <tr>\n",
       "      <th>prodgrowth</th>\n",
       "      <td>52.381</td>\n",
       "    </tr>\n",
       "    <tr>\n",
       "      <th>thrift</th>\n",
       "      <td>51.323</td>\n",
       "    </tr>\n",
       "    <tr>\n",
       "      <th>obedience</th>\n",
       "      <td>51.323</td>\n",
       "    </tr>\n",
       "  </tbody>\n",
       "</table>\n",
       "</div>"
      ],
      "text/plain": [
       "               Missing Ratio\n",
       "westerneurope         90.476\n",
       "asia                  76.720\n",
       "soccapability         75.132\n",
       "techvstrad            74.603\n",
       "africa                73.545\n",
       "laborshare            71.958\n",
       "rgdpch1950            71.429\n",
       "privcap75             69.312\n",
       "testscores09          66.667\n",
       "gini75                66.138\n",
       "work                  65.608\n",
       "rgdpch1955            62.434\n",
       "popden60              58.201\n",
       "secsch09              57.672\n",
       "wellbeing             56.614\n",
       "tradetax09            56.614\n",
       "fdi75                 55.026\n",
       "prodgrowth            52.381\n",
       "thrift                51.323\n",
       "obedience             51.323"
      ]
     },
     "execution_count": 4,
     "metadata": {},
     "output_type": "execute_result"
    }
   ],
   "source": [
    "all_missing_data = (missing_data_exploration.isnull().sum() / len(missing_data_exploration)) * 100\n",
    "all_missing_data = all_missing_data.drop(all_missing_data[all_missing_data == 0].index).sort_values(ascending=False)[:40]\n",
    "missing_data = pd.DataFrame({'Missing Ratio' :all_missing_data})\n",
    "missing_data.head(20)"
   ]
  },
  {
   "cell_type": "markdown",
   "metadata": {},
   "source": [
    "    This first shows the 20 missing values ordered by the missing ratio. We can see that from our 114 variables these first 20 are missing more than 50% of the values. This is concerning, since so much data is missing. Since we have a \"large\" number of variables we will just drop those that are missing more than 50% of the data."
   ]
  },
  {
   "cell_type": "code",
   "execution_count": 5,
   "metadata": {
    "collapsed": true
   },
   "outputs": [],
   "source": [
    "# write a loop instead of all this code!!!"
   ]
  },
  {
   "cell_type": "code",
   "execution_count": 6,
   "metadata": {
    "collapsed": true
   },
   "outputs": [],
   "source": [
    "missing_data_exploration = missing_data_exploration.drop('westerneurope', axis=1)\n",
    "missing_data_exploration = missing_data_exploration.drop('laborshare', axis=1)\n",
    "missing_data_exploration = missing_data_exploration.drop('asia', axis=1)\n",
    "missing_data_exploration = missing_data_exploration.drop('soccapability', axis=1)\n",
    "missing_data_exploration = missing_data_exploration.drop('techvstrad', axis=1)\n",
    "missing_data_exploration = missing_data_exploration.drop('africa', axis=1)\n",
    "missing_data_exploration = missing_data_exploration.drop('rgdpch1950', axis=1)\n",
    "missing_data_exploration = missing_data_exploration.drop('privcap75', axis=1)\n",
    "missing_data_exploration = missing_data_exploration.drop('testscores09', axis=1)\n",
    "missing_data_exploration = missing_data_exploration.drop('gini75', axis=1)\n",
    "missing_data_exploration = missing_data_exploration.drop('work', axis=1)\n",
    "missing_data_exploration = missing_data_exploration.drop('rgdpch1955', axis=1)\n",
    "missing_data_exploration = missing_data_exploration.drop('popden60', axis=1)\n",
    "missing_data_exploration = missing_data_exploration.drop('secsch09', axis=1)\n",
    "missing_data_exploration = missing_data_exploration.drop('wellbeing', axis=1)\n",
    "missing_data_exploration = missing_data_exploration.drop('tradetax09', axis=1)\n",
    "missing_data_exploration = missing_data_exploration.drop('fdi75', axis=1)\n",
    "missing_data_exploration = missing_data_exploration.drop('prodgrowth', axis=1)\n",
    "missing_data_exploration = missing_data_exploration.drop('thrift', axis=1)\n",
    "missing_data_exploration = missing_data_exploration.drop('obedience', axis=1)"
   ]
  },
  {
   "cell_type": "markdown",
   "metadata": {},
   "source": [
    "    Once that missing data has been dropped we can look at the other data that is missing and find the best way to fill in those missing values. It is very important to understnad each one of the variables and know what they represent and how they can be filled out. For right now, let's get a more graphical view of the data."
   ]
  },
  {
   "cell_type": "code",
   "execution_count": 7,
   "metadata": {},
   "outputs": [
    {
     "data": {
      "text/plain": [
       "Text(0.5,1,'Percent missing data by feature')"
      ]
     },
     "execution_count": 7,
     "metadata": {},
     "output_type": "execute_result"
    },
    {
     "data": {
      "image/png": "[encoded data removed]",
      "text/plain": [
       "<matplotlib.figure.Figure at 0x1a10886400>"
      ]
     },
     "metadata": {},
     "output_type": "display_data"
    }
   ],
   "source": [
    "f, ax = plt.subplots(figsize=(15, 12))\n",
    "plt.xticks(rotation='90')\n",
    "sns.barplot(x=all_missing_data.index, y=all_missing_data)\n",
    "plt.xlabel('Features', fontsize=15)\n",
    "plt.ylabel('Percent of missing values', fontsize=15)\n",
    "plt.title('Percent missing data by feature', fontsize=15)"
   ]
  },
  {
   "cell_type": "code",
   "execution_count": 8,
   "metadata": {
    "collapsed": true
   },
   "outputs": [],
   "source": [
    "def group_definition(column):\n",
    "    return missing_data_exploration[column].value_counts()\n",
    "def group_declariation(column, value):\n",
    "    missing_data_exploration.loc[missing_data_exploration[column].isnull(),column] = value"
   ]
  },
  {
   "cell_type": "code",
   "execution_count": 9,
   "metadata": {
    "collapsed": true
   },
   "outputs": [],
   "source": [
    "missing_data_exploration['perseverance'] = missing_data_exploration.groupby('Continent').transform(lambda x: x.fillna(x.mean()))\n",
    "missing_data_exploration['trust'] = missing_data_exploration.groupby('Continent').transform(lambda x: x.fillna(x.mean()))\n",
    "missing_data_exploration['faith'] = missing_data_exploration.groupby('Continent').transform(lambda x: x.fillna(x.mean()))\n",
    "\n",
    "missing_data_exploration['martax09'] = missing_data_exploration.groupby('Continent').transform(lambda x: x.fillna(x.mean()))\n",
    "missing_data_exploration['indgdp75'] = missing_data_exploration.groupby('Continent').transform(lambda x: x.fillna(x.mean()))\n",
    "missing_data_exploration['agrigdp75'] = missing_data_exploration.groupby('Continent').transform(lambda x: x.fillna(x.mean()))\n",
    "missing_data_exploration['openfrac'] = missing_data_exploration.groupby('Continent').transform(lambda x: x.fillna(x.mean()))\n",
    "missing_data_exploration['rgdpch1960'] = missing_data_exploration.groupby('Continent').transform(lambda x: x.fillna(x.mean()))\n",
    "missing_data_exploration['kpw1975'] = missing_data_exploration.groupby('Continent').transform(lambda x: x.fillna(x.mean()))\n",
    "\n",
    "missing_data_exploration['k1975'] = missing_data_exploration.groupby('Continent').transform(lambda x: x.fillna(x.mean()))\n",
    "missing_data_exploration['rgdpch1965'] = missing_data_exploration.groupby('Continent').transform(lambda x: x.fillna(x.mean()))\n",
    "missing_data_exploration['govsp75'] = missing_data_exploration.groupby('Continent').transform(lambda x: x.fillna(x.mean()))\n",
    "missing_data_exploration['grodomsav75'] = missing_data_exploration.groupby('Continent').transform(lambda x: x.fillna(x.mean()))\n",
    "missing_data_exploration['trade75'] = missing_data_exploration.groupby('Continent').transform(lambda x: x.fillna(x.mean()))\n",
    "missing_data_exploration['imports75'] = missing_data_exploration.groupby('Continent').transform(lambda x: x.fillna(x.mean()))\n",
    "\n",
    "missing_data_exploration['natcap00'] = missing_data_exploration.groupby('Continent').transform(lambda x: x.fillna(x.mean()))\n",
    "missing_data_exploration['aggdpperagworker09'] = missing_data_exploration.groupby('Continent').transform(lambda x: x.fillna(x.mean()))\n",
    "missing_data_exploration['gini09'] = missing_data_exploration.groupby('Continent').transform(lambda x: x.fillna(x.mean()))\n",
    "missing_data_exploration['botincsh09'] = missing_data_exploration.groupby('Continent').transform(lambda x: x.fillna(x.mean()))\n",
    "missing_data_exploration['topincsh09'] = missing_data_exploration.groupby('Continent').transform(lambda x: x.fillna(x.mean()))\n"
   ]
  },
  {
   "cell_type": "code",
   "execution_count": 10,
   "metadata": {
    "collapsed": true
   },
   "outputs": [],
   "source": [
    "missing_data_exploration['agrigdp09'] = missing_data_exploration.groupby('Continent').transform(lambda x: x.fillna(x.mean()))\n",
    "missing_data_exploration['indgdp09'] = missing_data_exploration.groupby('Continent').transform(lambda x: x.fillna(x.mean()))\n",
    "missing_data_exploration['govsp09'] = missing_data_exploration.groupby('Continent').transform(lambda x: x.fillna(x.mean()))\n",
    "missing_data_exploration['rgdpwk1975'] = missing_data_exploration.groupby('Continent').transform(lambda x: x.fillna(x.mean()))\n",
    "missing_data_exploration['labpop75'] = missing_data_exploration.groupby('Continent').transform(lambda x: x.fillna(x.mean()))\n",
    "missing_data_exploration['privcap09'] = missing_data_exploration.groupby('Continent').transform(lambda x: x.fillna(x.mean()))\n",
    "\n",
    "missing_data_exploration['grodomsav09'] = missing_data_exploration.groupby('Continent').transform(lambda x: x.fillna(x.mean()))\n",
    "missing_data_exploration['ethnicfractionalization'] = missing_data_exploration.groupby('Continent').transform(lambda x: x.fillna(x.mean()))\n",
    "missing_data_exploration['avgsch2010'] = missing_data_exploration.groupby('Continent').transform(lambda x: x.fillna(x.mean()))\n",
    "missing_data_exploration['labfor75'] = missing_data_exploration.groupby('Continent').transform(lambda x: x.fillna(x.mean()))\n",
    "missing_data_exploration['trade09'] = missing_data_exploration.groupby('Continent').transform(lambda x: x.fillna(x.mean()))\n",
    "missing_data_exploration['hc1975'] = missing_data_exploration.groupby('Continent').transform(lambda x: x.fillna(x.mean()))\n",
    "\n",
    "missing_data_exploration['avgsch75'] = missing_data_exploration.groupby('Continent').transform(lambda x: x.fillna(x.mean()))\n",
    "missing_data_exploration['avgyrsfemaleed'] = missing_data_exploration.groupby('Continent').transform(lambda x: x.fillna(x.mean()))\n",
    "missing_data_exploration['collegeadultpop2010'] = missing_data_exploration.groupby('Continent').transform(lambda x: x.fillna(x.mean()))\n",
    "missing_data_exploration['compcollegeadultpop2010'] = missing_data_exploration.groupby('Continent').transform(lambda x: x.fillna(x.mean()))\n",
    "missing_data_exploration['hc2009'] = missing_data_exploration.groupby('Continent').transform(lambda x: x.fillna(x.mean()))\n",
    "missing_data_exploration['imports09'] = missing_data_exploration.groupby('Continent').transform(lambda x: x.fillna(x.mean()))\n"
   ]
  },
  {
   "cell_type": "code",
   "execution_count": 11,
   "metadata": {
    "collapsed": true
   },
   "outputs": [],
   "source": [
    "missing_data_exploration['gy7509'] = missing_data_exploration.groupby('Continent').transform(lambda x: x.fillna(x.mean()))\n",
    "missing_data_exploration['meanki'] = missing_data_exploration.groupby('Continent').transform(lambda x: x.fillna(x.mean()))\n",
    "missing_data_exploration['ki1975'] = missing_data_exploration.groupby('Continent').transform(lambda x: x.fillna(x.mean()))\n",
    "missing_data_exploration['rgdpch1975'] = missing_data_exploration.groupby('Continent').transform(lambda x: x.fillna(x.mean()))\n",
    "missing_data_exploration['rgdpch1970'] = missing_data_exploration.groupby('Continent').transform(lambda x: x.fillna(x.mean()))\n",
    "missing_data_exploration['rgdpch1985'] = missing_data_exploration.groupby('Continent').transform(lambda x: x.fillna(x.mean()))\n",
    "\n",
    "missing_data_exploration['rgdpch1980'] = missing_data_exploration.groupby('Continent').transform(lambda x: x.fillna(x.mean()))\n",
    "missing_data_exploration['fordep09'] = missing_data_exploration.groupby('Continent').transform(lambda x: x.fillna(x.mean()))\n",
    "missing_data_exploration['malaria94'] = missing_data_exploration.groupby('Continent').transform(lambda x: x.fillna(x.mean()))\n",
    "missing_data_exploration['comp05'] = missing_data_exploration.groupby('Continent').transform(lambda x: x.fillna(x.mean()))\n",
    "missing_data_exploration['calories07'] = missing_data_exploration.groupby('Continent').transform(lambda x: x.fillna(x.mean()))\n",
    "missing_data_exploration['malariaecology'] = missing_data_exploration.groupby('Continent').transform(lambda x: x.fillna(x.mean()))\n",
    "\n",
    "missing_data_exploration['endep09'] = missing_data_exploration.groupby('Continent').transform(lambda x: x.fillna(x.mean()))\n",
    "missing_data_exploration['mindep09'] = missing_data_exploration.groupby('Continent').transform(lambda x: x.fillna(x.mean()))\n",
    "missing_data_exploration['rgdpwk2009'] = missing_data_exploration.groupby('Continent').transform(lambda x: x.fillna(x.mean()))\n",
    "missing_data_exploration['labpop09'] = missing_data_exploration.groupby('Continent').transform(lambda x: x.fillna(x.mean()))\n",
    "missing_data_exploration['fdi09'] = missing_data_exploration.groupby('Continent').transform(lambda x: x.fillna(x.mean()))\n",
    "missing_data_exploration['rgdpch1990'] = missing_data_exploration.groupby('Continent').transform(lambda x: x.fillna(x.mean()))\n",
    "\n",
    "\n",
    "missing_data_exploration['lifeex75'] = missing_data_exploration.groupby('Continent').transform(lambda x: x.fillna(x.mean()))\n",
    "missing_data_exploration['kpw2009'] = missing_data_exploration.groupby('Continent').transform(lambda x: x.fillna(x.mean()))\n",
    "missing_data_exploration['percemployagr10'] = missing_data_exploration.groupby('Continent').transform(lambda x: x.fillna(x.mean()))\n",
    "\n",
    "\n",
    "#REVISE\n",
    "\n",
    "missing_data_exploration['area'] = missing_data_exploration.groupby('Continent').transform(lambda x: x.fillna(x.mean()))"
   ]
  },
  {
   "cell_type": "code",
   "execution_count": 12,
   "metadata": {
    "collapsed": true
   },
   "outputs": [],
   "source": [
    "missing_data_exploration['labfor09'] = missing_data_exploration.groupby('Continent').transform(lambda x: x.fillna(x.mean()))\n",
    "missing_data_exploration['tfr75'] = missing_data_exploration.groupby('Continent').transform(lambda x: x.fillna(x.mean()))\n",
    "missing_data_exploration['agedep09'] = missing_data_exploration.groupby('Continent').transform(lambda x: x.fillna(x.mean()))\n",
    "missing_data_exploration['lifeex09'] = missing_data_exploration.groupby('Continent').transform(lambda x: x.fillna(x.mean()))\n",
    "missing_data_exploration['migration10'] = missing_data_exploration.groupby('Continent').transform(lambda x: x.fillna(x.mean()))\n",
    "missing_data_exploration['tfr09'] = missing_data_exploration.groupby('Continent').transform(lambda x: x.fillna(x.mean()))\n",
    "\n",
    "missing_data_exploration['polrights10'] = missing_data_exploration.groupby('Continent').transform(lambda x: x.fillna(x.mean()))\n",
    "missing_data_exploration['intuser09'] = missing_data_exploration.groupby('Continent').transform(lambda x: x.fillna(x.mean()))\n",
    "missing_data_exploration['infmor09'] = missing_data_exploration.groupby('Continent').transform(lambda x: x.fillna(x.mean()))\n",
    "missing_data_exploration['cells09'] = missing_data_exploration.groupby('Continent').transform(lambda x: x.fillna(x.mean()))\n",
    "missing_data_exploration['co2emm07'] = missing_data_exploration.groupby('Continent').transform(lambda x: x.fillna(x.mean()))\n",
    "missing_data_exploration['tele09'] = missing_data_exploration.groupby('Continent').transform(lambda x: x.fillna(x.mean()))\n",
    "\n",
    "\n",
    "missing_data_exploration['corrcon09'] = missing_data_exploration.groupby('Continent').transform(lambda x: x.fillna(x.mean()))\n",
    "missing_data_exploration['rgdpch1995'] = missing_data_exploration.groupby('Continent').transform(lambda x: x.fillna(x.mean()))\n",
    "missing_data_exploration['ki2009'] = missing_data_exploration.groupby('Continent').transform(lambda x: x.fillna(x.mean()))\n",
    "missing_data_exploration['rgdpch2009'] = missing_data_exploration.groupby('Continent').transform(lambda x: x.fillna(x.mean()))\n",
    "missing_data_exploration['rgdpch2000'] = missing_data_exploration.groupby('Continent').transform(lambda x: x.fillna(x.mean()))\n",
    "missing_data_exploration['instability'] = missing_data_exploration.groupby('Continent').transform(lambda x: x.fillna(x.mean()))\n",
    "\n",
    "missing_data_exploration['rulelaw2009'] = missing_data_exploration.groupby('Continent').transform(lambda x: x.fillna(x.mean()))\n",
    "missing_data_exploration['rgdpch2008'] = missing_data_exploration.groupby('Continent').transform(lambda x: x.fillna(x.mean()))\n",
    "missing_data_exploration['rgdpch2007'] = missing_data_exploration.groupby('Continent').transform(lambda x: x.fillna(x.mean()))\n",
    "missing_data_exploration['rgdpch2006'] = missing_data_exploration.groupby('Continent').transform(lambda x: x.fillna(x.mean()))\n",
    "missing_data_exploration['rgdpch2005'] = missing_data_exploration.groupby('Continent').transform(lambda x: x.fillna(x.mean()))\n",
    "missing_data_exploration['latitude'] = missing_data_exploration.groupby('Continent').transform(lambda x: x.fillna(x.mean()))\n",
    "\n",
    "missing_data_exploration['agedep75'] = missing_data_exploration.groupby('Continent').transform(lambda x: x.fillna(x.mean()))"
   ]
  },
  {
   "cell_type": "code",
   "execution_count": 13,
   "metadata": {
    "collapsed": true
   },
   "outputs": [],
   "source": [
    "#missing_data_exploration.to_csv(\"lasso.csv\")"
   ]
  },
  {
   "cell_type": "code",
   "execution_count": 14,
   "metadata": {
    "collapsed": true
   },
   "outputs": [],
   "source": [
    "data = missing_data_exploration"
   ]
  },
  {
   "cell_type": "code",
   "execution_count": 15,
   "metadata": {
    "collapsed": true
   },
   "outputs": [],
   "source": [
    "# Christophers stuff goes here."
   ]
  },
  {
   "cell_type": "code",
   "execution_count": 16,
   "metadata": {},
   "outputs": [
    {
     "data": {
      "text/plain": [
       "(189, 94)"
      ]
     },
     "execution_count": 16,
     "metadata": {},
     "output_type": "execute_result"
    }
   ],
   "source": [
    "data.shape"
   ]
  },
  {
   "cell_type": "code",
   "execution_count": 17,
   "metadata": {
    "collapsed": true
   },
   "outputs": [],
   "source": [
    "tdata = pd.DataFrame()\n",
    "for col in list(data):\n",
    "        tdata[col] = data[col]\n",
    "tdata['instability'] = data['instability']\n",
    "data = tdata\n",
    "data = data.dropna(axis=0,how='any')"
   ]
  },
  {
   "cell_type": "code",
   "execution_count": 18,
   "metadata": {
    "collapsed": true
   },
   "outputs": [],
   "source": [
    "Y = data['instability']\n",
    "Y = (Y - Y.mean()) / Y.std()"
   ]
  },
  {
   "cell_type": "code",
   "execution_count": 19,
   "metadata": {
    "collapsed": true
   },
   "outputs": [],
   "source": [
    "X = pd.DataFrame()\n",
    "for col in list(data):\n",
    "    if (data[col].dtype == 'float64' or data[col].dtype == 'int64') and col != 'instability':\n",
    "        X[col] = (data[col] - data[col].mean()) / data[col].std()"
   ]
  },
  {
   "cell_type": "code",
   "execution_count": 20,
   "metadata": {
    "collapsed": true
   },
   "outputs": [],
   "source": [
    "X_train, X_test, y_train, y_test = model_selection.train_test_split(X,Y)"
   ]
  },
  {
   "cell_type": "code",
   "execution_count": 21,
   "metadata": {
    "collapsed": true
   },
   "outputs": [],
   "source": [
    "lasso = linear_model.Lasso(alpha=0.01)"
   ]
  },
  {
   "cell_type": "code",
   "execution_count": 22,
   "metadata": {},
   "outputs": [
    {
     "data": {
      "text/plain": [
       "Lasso(alpha=0.01, copy_X=True, fit_intercept=True, max_iter=1000,\n",
       "   normalize=False, positive=False, precompute=False, random_state=None,\n",
       "   selection='cyclic', tol=0.0001, warm_start=False)"
      ]
     },
     "execution_count": 22,
     "metadata": {},
     "output_type": "execute_result"
    }
   ],
   "source": [
    "lasso.fit(X_train, y_train)"
   ]
  },
  {
   "cell_type": "code",
   "execution_count": 23,
   "metadata": {},
   "outputs": [
    {
     "data": {
      "text/plain": [
       "0.99794968011901053"
      ]
     },
     "execution_count": 23,
     "metadata": {},
     "output_type": "execute_result"
    }
   ],
   "source": [
    "lasso.score(X_test, y_test)"
   ]
  },
  {
   "cell_type": "code",
   "execution_count": 24,
   "metadata": {},
   "outputs": [
    {
     "data": {
      "text/plain": [
       "array([-0.        ,  0.8469564 ,  0.11242137, -0.        ,  0.        ,\n",
       "        0.00881297,  0.        ,  0.        ,  0.        ,  0.        ,\n",
       "        0.        ,  0.        ,  0.        ,  0.        ,  0.        ,\n",
       "        0.        ,  0.        ,  0.        ,  0.        ,  0.        ,\n",
       "        0.        ,  0.        ,  0.        ,  0.        ,  0.        ,\n",
       "        0.        ,  0.        ,  0.        ,  0.        ,  0.        ,\n",
       "        0.        ,  0.        ,  0.        ,  0.        ,  0.        ,\n",
       "        0.        ,  0.        ,  0.        ,  0.        ,  0.        ,\n",
       "        0.        ,  0.        ,  0.        ,  0.        ,  0.        ,\n",
       "        0.        ,  0.        ,  0.        ,  0.        ,  0.        ,\n",
       "        0.        ,  0.        ,  0.        ,  0.        ,  0.        ,\n",
       "        0.        ,  0.        ,  0.        ,  0.        ,  0.        ,\n",
       "        0.        ,  0.        ,  0.        ,  0.        ,  0.        ,\n",
       "        0.        ,  0.        ,  0.        ,  0.        ,  0.        ,\n",
       "        0.        ,  0.        ,  0.        ,  0.        ,  0.        ,\n",
       "        0.        ,  0.        ,  0.        ,  0.        ,  0.        ,\n",
       "        0.        ,  0.        ,  0.        ,  0.        ,  0.        ,\n",
       "        0.        ,  0.        ,  0.        ,  0.        ,  0.        ])"
      ]
     },
     "execution_count": 24,
     "metadata": {},
     "output_type": "execute_result"
    }
   ],
   "source": [
    "lasso.coef_"
   ]
  },
  {
   "cell_type": "code",
   "execution_count": 25,
   "metadata": {},
   "outputs": [
    {
     "data": {
      "text/plain": [
       "['Continent',\n",
       " 'pop75',\n",
       " 'pop09',\n",
       " 'gpop',\n",
       " 'k1975',\n",
       " 'k2009',\n",
       " 'kpw1975',\n",
       " 'kpw2009',\n",
       " 'hc1975',\n",
       " 'hc2009',\n",
       " 'rgdpwk1975',\n",
       " 'rgdpwk2009',\n",
       " 'rgdpch1960',\n",
       " 'rgdpch1965',\n",
       " 'rgdpch1970',\n",
       " 'rgdpch1975',\n",
       " 'rgdpch1980',\n",
       " 'rgdpch1985',\n",
       " 'rgdpch1990',\n",
       " 'rgdpch1995',\n",
       " 'rgdpch2000',\n",
       " 'rgdpch2005',\n",
       " 'rgdpch2006',\n",
       " 'rgdpch2007',\n",
       " 'rgdpch2008',\n",
       " 'rgdpch2009',\n",
       " 'gy7509',\n",
       " 'ki1975',\n",
       " 'ki2009',\n",
       " 'meanki',\n",
       " 'natsav09',\n",
       " 'grodomsav75',\n",
       " 'grodomsav09',\n",
       " 'govsp75',\n",
       " 'govsp09',\n",
       " 'privcap09',\n",
       " 'fdi09',\n",
       " 'imports75',\n",
       " 'imports09',\n",
       " 'trade75',\n",
       " 'trade09',\n",
       " 'openfrac',\n",
       " 'martax09',\n",
       " 'migration10',\n",
       " 'labfor75',\n",
       " 'labfor09',\n",
       " 'labpop75',\n",
       " 'labpop09',\n",
       " 'indgdp75',\n",
       " 'indgdp09',\n",
       " 'agrigdp75',\n",
       " 'agrigdp09',\n",
       " 'aggdpperagworker09',\n",
       " 'percemployagr10',\n",
       " 'natcap00',\n",
       " 'mindep09',\n",
       " 'endep09',\n",
       " 'fordep09',\n",
       " 'co2emm07',\n",
       " 'tfr75',\n",
       " 'tfr09',\n",
       " 'infmor09',\n",
       " 'malaria94',\n",
       " 'malariaecology',\n",
       " 'calories07',\n",
       " 'lifeex75',\n",
       " 'lifeex09',\n",
       " 'agedep75',\n",
       " 'agedep09',\n",
       " 'avgsch75',\n",
       " 'avgsch2010',\n",
       " 'collegeadultpop2010',\n",
       " 'compcollegeadultpop2010',\n",
       " 'avgyrsfemaleed',\n",
       " 'intuser09',\n",
       " 'tele09',\n",
       " 'cells09',\n",
       " 'comp05',\n",
       " 'gini09',\n",
       " 'topincsh09',\n",
       " 'botincsh09',\n",
       " 'ethnicfractionalization',\n",
       " 'rulelaw2009',\n",
       " 'corrcon09',\n",
       " 'polrights10',\n",
       " 'perseverance',\n",
       " 'faith',\n",
       " 'trust',\n",
       " 'latitude',\n",
       " 'area']"
      ]
     },
     "execution_count": 25,
     "metadata": {},
     "output_type": "execute_result"
    }
   ],
   "source": [
    "list(X)"
   ]
  },
  {
   "cell_type": "code",
   "execution_count": 26,
   "metadata": {
    "collapsed": true
   },
   "outputs": [],
   "source": [
    "linear = linear_model.LinearRegression()"
   ]
  },
  {
   "cell_type": "code",
   "execution_count": 27,
   "metadata": {},
   "outputs": [
    {
     "data": {
      "text/plain": [
       "LinearRegression(copy_X=True, fit_intercept=True, n_jobs=1, normalize=False)"
      ]
     },
     "execution_count": 27,
     "metadata": {},
     "output_type": "execute_result"
    }
   ],
   "source": [
    "linear.fit(X_train, y_train)"
   ]
  },
  {
   "cell_type": "code",
   "execution_count": 28,
   "metadata": {},
   "outputs": [
    {
     "data": {
      "text/plain": [
       "1.0"
      ]
     },
     "execution_count": 28,
     "metadata": {},
     "output_type": "execute_result"
    }
   ],
   "source": [
    "linear.score(X_test, y_test)"
   ]
  },
  {
   "cell_type": "code",
   "execution_count": 29,
   "metadata": {},
   "outputs": [
    {
     "data": {
      "text/plain": [
       "array([ -6.14721113e-17,  -5.75508891e-02,   1.24900090e-16,\n",
       "         5.55111512e-17,  -5.55573222e-02,  -2.04697370e-16,\n",
       "        -7.71595841e-02,  -2.24850600e-02,  -2.03868363e-02,\n",
       "         2.17161020e-02,  -7.69637930e-03,   3.80000819e-03,\n",
       "         1.09286742e-03,   2.97528728e-02,   3.18520261e-02,\n",
       "         2.23626631e-02,   6.49851972e-02,   1.47507906e-02,\n",
       "         1.47507906e-02,   1.47507906e-02,   1.47507906e-02,\n",
       "         1.47507906e-02,   1.47507906e-02,   1.47507906e-02,\n",
       "         1.47507906e-02,   1.47507906e-02,   1.47507906e-02,\n",
       "         1.47507906e-02,   1.47507906e-02,   1.47507906e-02,\n",
       "         1.45716772e-16,   1.47507906e-02,   1.47507906e-02,\n",
       "         1.47507906e-02,   1.47507906e-02,   1.47507906e-02,\n",
       "         1.47507906e-02,   1.47507906e-02,   1.47507906e-02,\n",
       "         1.47507906e-02,   1.47507906e-02,   1.47507906e-02,\n",
       "         1.47507906e-02,   1.47507906e-02,   1.47507906e-02,\n",
       "         1.47507906e-02,   1.47507906e-02,   1.47507906e-02,\n",
       "         1.47507906e-02,   1.47507906e-02,   1.47507906e-02,\n",
       "         1.47507906e-02,   1.63594971e-02,   1.47507906e-02,\n",
       "         1.47507906e-02,   1.47507906e-02,   1.47507906e-02,\n",
       "         1.47507906e-02,   1.47507906e-02,   1.47507906e-02,\n",
       "         1.47507906e-02,   1.47507906e-02,   1.47507906e-02,\n",
       "         1.47507906e-02,   1.47507906e-02,   1.47507906e-02,\n",
       "         1.47507906e-02,   1.47507906e-02,   1.47507906e-02,\n",
       "         1.47507906e-02,   1.47507906e-02,   1.47507906e-02,\n",
       "         1.47507906e-02,   1.47507906e-02,   1.47507906e-02,\n",
       "         1.47507906e-02,   1.47507906e-02,   1.47507906e-02,\n",
       "         1.47507906e-02,   1.47507906e-02,   1.47507906e-02,\n",
       "         1.47507906e-02,   1.47507906e-02,   1.47507906e-02,\n",
       "         1.47507906e-02,   1.47507906e-02,   1.47507906e-02,\n",
       "         1.47507906e-02,   1.47507906e-02,   1.63594971e-02])"
      ]
     },
     "execution_count": 29,
     "metadata": {},
     "output_type": "execute_result"
    }
   ],
   "source": [
    "linear.coef_"
   ]
  }
 ],
 "metadata": {
  "kernelspec": {
   "display_name": "Python 3",
   "language": "python",
   "name": "python3"
  },
  "language_info": {
   "codemirror_mode": {
    "name": "ipython",
    "version": 3
   },
   "file_extension": ".py",
   "mimetype": "text/x-python",
   "name": "python",
   "nbconvert_exporter": "python",
   "pygments_lexer": "ipython3",
   "version": "3.6.3"
  }
 },
 "nbformat": 4,
 "nbformat_minor": 2
}
